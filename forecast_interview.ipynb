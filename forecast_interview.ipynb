{
 "cells": [
  {
   "cell_type": "code",
   "execution_count": 1,
   "metadata": {
    "collapsed": true
   },
   "outputs": [],
   "source": [
    "from pandas import *\n",
    "import numpy as np\n",
    "import matplotlib.pyplot as mplt\n",
    "from sklearn.ensemble import RandomForestRegressor\n",
    "from sklearn.cross_validation import train_test_split\n",
    "from sklearn.decomposition import PCA\n",
    "from sklearn.metrics import r2_score\n",
    "import datetime\n",
    "from decimal import Decimal"
   ]
  },
  {
   "cell_type": "markdown",
   "metadata": {},
   "source": [
    "Get the data:"
   ]
  },
  {
   "cell_type": "code",
   "execution_count": 2,
   "metadata": {
    "collapsed": true
   },
   "outputs": [],
   "source": [
    "def get_data():\n",
    "    temp = '/Users/kafka/PycharmProjects/PortentIO/%s.csv'\n",
    "    data =  read_csv(temp % 'movie_wiki_twitter_by_days_to_release')\n",
    "    return(data)"
   ]
  },
  {
   "cell_type": "code",
   "execution_count": 3,
   "metadata": {
    "collapsed": false
   },
   "outputs": [
    {
     "name": "stdout",
     "output_type": "stream",
     "text": [
      "['imdb_movie_id', 'number_of_views', 'days_to_release', 'imdb_id', 'title', 'year', 'day_of_year', 'weekend_num', 'lead_actor', 'imdb_rating', 'genre', 'budget', 'theatres', 'opening_we_bor', 'twitter_volume', 'date']\n"
     ]
    }
   ],
   "source": [
    "data = get_data()\n",
    "print(list(data.keys()))"
   ]
  },
  {
   "cell_type": "markdown",
   "metadata": {},
   "source": [
    "The data has redundant rows due to IMDb view and time stamps, so we take out these redundancies."
   ]
  },
  {
   "cell_type": "code",
   "execution_count": 4,
   "metadata": {
    "collapsed": true
   },
   "outputs": [],
   "source": [
    "def group_data(data):\n",
    "\n",
    "    df = data.drop(['title', 'imdb_movie_id', 'number_of_views',\n",
    "                 'days_to_release'], axis=1)\n",
    "    df1 = df[np.isfinite(data['theatres'])]\n",
    "    tiny_data = df1.groupby('imdb_id').first()\n",
    "    full_data= data.groupby('imdb_id')\n",
    "\n",
    "    return(tiny_data, full_data)"
   ]
  },
  {
   "cell_type": "code",
   "execution_count": 5,
   "metadata": {
    "collapsed": true
   },
   "outputs": [],
   "source": [
    "grouped_df, full_df = group_data(data)"
   ]
  },
  {
   "cell_type": "markdown",
   "metadata": {},
   "source": [
    "We will attempt to do some principle componenet analysis and momentum analysis on the IMDb views data the following is to tease out the data and make a sanity plot-check:"
   ]
  },
  {
   "cell_type": "code",
   "execution_count": 6,
   "metadata": {
    "collapsed": true
   },
   "outputs": [],
   "source": [
    "def get_views(grouped, show_sample_plots=True):\n",
    "\n",
    "    count = 0\n",
    "    imdbviews_list={}\n",
    "    for name, group in grouped:\n",
    "\n",
    "        #get information for plots\n",
    "        num       = np.array(group['number_of_views'])\n",
    "        dtr       = np.array(group['days_to_release'])\n",
    "        imdbviews = Series(num, index=dtr)\n",
    "\n",
    "        #get info from first instances of group\n",
    "        doy   = int(group['day_of_year'].iloc[0])\n",
    "        yr    = int(group['year'].iloc[0])\n",
    "        title = group['title'].iloc[0]\n",
    "        bor   = '%.2E' % Decimal(str(group['opening_we_bor'].iloc[0]))\n",
    "        date  = str(datetime.datetime.strptime(str(yr)+' '+str(doy),\n",
    "                                           '%Y %j'))\n",
    "        count +=1\n",
    "\n",
    "        if(show_sample_plots==True and count%414==0):\n",
    "            get_mom_plot(imdbviews, dtr, title, bor, date)\n",
    "\n",
    "        if(len(num)==100):\n",
    "            imdbviews_list[bor] = imdbviews\n",
    "    return(imdbviews_list)"
   ]
  },
  {
   "cell_type": "markdown",
   "metadata": {},
   "source": [
    "The momentum band is plotted thusly:"
   ]
  },
  {
   "cell_type": "code",
   "execution_count": 9,
   "metadata": {
    "collapsed": true
   },
   "outputs": [],
   "source": [
    "def get_mom_plot(data, index, title, bor, date):\n",
    "    #we can plot momentum curves to predidct what a movie will do towards\n",
    "    #opening day. this kind of analysis might be better fitted for\n",
    "    #the cum-sum of twitter sentiment\n",
    "\n",
    "    ax = data.plot( title='Momentum Plot \\n'+title+\\\n",
    "                                      '  BOR($):'+bor+'  OpDay:'+date )\n",
    "    ax.set_xlabel(\"days to release\")\n",
    "    ax.set_ylabel(\"number of views\")\n",
    "\n",
    "    rolling_means ={}\n",
    "    for i in np.linspace(1,80, 10):\n",
    "        X=Series(rolling_mean(data, i), index=index)\n",
    "        rolling_means[i] = X\n",
    "        X.plot(alpha = 0.7)\n",
    "\n",
    "    mplt.show()"
   ]
  },
  {
   "cell_type": "code",
   "execution_count": null,
   "metadata": {
    "collapsed": true
   },
   "outputs": [],
   "source": [
    "views = get_views(full_df)"
   ]
  },
  {
   "cell_type": "markdown",
   "metadata": {},
   "source": [
    "We can use random forest on the exisitng data:"
   ]
  },
  {
   "cell_type": "code",
   "execution_count": null,
   "metadata": {
    "collapsed": true
   },
   "outputs": [],
   "source": [
    "y = grouped_df['opening_we_bor']\n",
    "X = grouped_df[['weekend_num', 'imdb_rating', 'budget', 'theatres']]\n",
    "Xtrain, Xtest, ytrain, ytest = train_test_split(X, y,\n",
    "                                                random_state = 12, test_size=0.1)\n",
    "rf = RandomForestRegressor(n_estimators=100)\n",
    "rf.fit(Xtrain, ytrain)"
   ]
  },
  {
   "cell_type": "markdown",
   "metadata": {},
   "source": [
    "When plotting the true vs. predited values, we get an r_squared value of roughly 0.8, not bad.. on a first run."
   ]
  },
  {
   "cell_type": "code",
   "execution_count": null,
   "metadata": {
    "collapsed": true
   },
   "outputs": [],
   "source": [
    "#we can generate the importance of each column on determining the BOR:\n",
    "print(sorted(zip(map(lambda x: round(x, 4),\n",
    "                     rf.feature_importances_), X), reverse=True))\n",
    "\n",
    "#Let's see how well we did at predicting the BOR on the test set:\n",
    "y_predict = rf.predict(Xtest)\n",
    "r2 = r2_score(ytest, y_predict)"
   ]
  },
  {
   "cell_type": "markdown",
   "metadata": {},
   "source": [
    "In addition to using the momentum charts, and time permitting, we can play around more with this data set. \n",
    "The data for the views and BOR are stored in a dictionary with the follwoing format: {\"BOR\": [view1, view2, ...],...}.\n",
    "Assuming we extract some significance out the \"shape\" of the view pattern, we might attempt a PCA fit."
   ]
  },
  {
   "cell_type": "code",
   "execution_count": null,
   "metadata": {
    "collapsed": true
   },
   "outputs": [],
   "source": [
    "X1 = np.array(list(views.values()))\n",
    "y1 = np.array(list(views.keys()))\n",
    "X2 = (X1-np.mean(X1))/np.std(X1)"
   ]
  },
  {
   "cell_type": "markdown",
   "metadata": {},
   "source": [
    "For PCA to work properly, we have to classify the goal funcitons so that they represent brackets of BOR (i.e. they are not all unique). Once we change the values of X2, we might do something like the following:"
   ]
  },
  {
   "cell_type": "code",
   "execution_count": null,
   "metadata": {
    "collapsed": true
   },
   "outputs": [],
   "source": [
    "pca_ = PCA().fit(, )"
   ]
  },
  {
   "cell_type": "markdown",
   "metadata": {},
   "source": [
    "For future work (an afternoon project), we can factorize the 'genere' and 'leading actor' columns to gain a better model. However, there doesn't seem to be enogh movies for the latter column to make much of a difference. "
   ]
  },
  {
   "cell_type": "code",
   "execution_count": null,
   "metadata": {
    "collapsed": true
   },
   "outputs": [],
   "source": [
    "actors = factorize(gdf['lead_actor'])\n",
    "genre = factorize(gdf['genre'])[0]\n",
    "gen = DataFrame(genre)\n",
    "gen.columns=['genre']"
   ]
  }
 ],
 "metadata": {
  "kernelspec": {
   "display_name": "Python 3",
   "language": "python",
   "name": "python3"
  },
  "language_info": {
   "codemirror_mode": {
    "name": "ipython",
    "version": 3
   },
   "file_extension": ".py",
   "mimetype": "text/x-python",
   "name": "python",
   "nbconvert_exporter": "python",
   "pygments_lexer": "ipython3",
   "version": "3.4.3"
  }
 },
 "nbformat": 4,
 "nbformat_minor": 0
}
